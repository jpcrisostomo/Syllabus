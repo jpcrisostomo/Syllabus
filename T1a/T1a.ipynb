{
  "nbformat": 4,
  "nbformat_minor": 0,
  "metadata": {
    "colab": {
      "name": "Untitled0.ipynb",
      "provenance": [],
      "collapsed_sections": []
    },
    "kernelspec": {
      "name": "python3",
      "display_name": "Python 3"
    },
    "language_info": {
      "name": "python"
    }
  },
  "cells": [
    {
      "cell_type": "code",
      "metadata": {
        "id": "ol_7gioBIdj_"
      },
      "source": [
        "import numpy as np\n",
        "class Vehiculo:\n",
        "  def __init__(self):\n",
        "    self.color= \"Blanco\"\n",
        "    self.kmr= 0\n",
        "    self.contador= 0\n",
        "    self.estado= \"Funcionando\"\n",
        "\n",
        "  def ciudadVisitada():\n",
        "    self.contador +=1\n",
        "\n",
        "  def eficiencia(self):\n",
        "    return self.contador /self.kmr\n",
        "\n",
        "\n",
        "\n",
        "## Al crear una bicicleta o auto, como sub clase de vehiculo, los atributos de este\n",
        "# se incluyen usando el comando super, y las diferencias entre auto/bici son los valores\n",
        "#de sus atributos Vavg y de Kmax que llevan a separar estas 2 sub clases de vehiculos\n",
        "#compartiendo la herencia de los atributos de vehiculo.\n",
        "\n",
        "# los métodos recorrer y disponibilidad están en cada sub clase de vehículo ya que\n",
        "# se necesita conocer a priori el tipo de vehículo, dados sus diferentes atributos de Kmax\n",
        "\n",
        "#En cambio el método eficiencia pertenece a la clase superior de vehiculo \n",
        "#ya que es independiente del tipo\n",
        "\n",
        "class Auto(Vehiculo):\n",
        "  def __init__(self):\n",
        "    super().__init__() # Obtiene la instancia generica vehiculo y llama a su funcion __init__\n",
        "    self.kmax= 1500\n",
        "    self.vavg= 80\n",
        "\n",
        "#Aumenta kms recorridos ssi vehículo está disponible\n",
        "  def recorrer(self, distancia):\n",
        "    if self.estado == \"Funcionando\":\n",
        "      self.kmr += distancia\n",
        "\n",
        "#Chquea si vehiculo está en Funcionando o en Panne ycambia su estado\n",
        "  def disponible(self):\n",
        "    if self.kmr >= self.kmax:\n",
        "      self.estado= \"En Panne\"\n",
        "\n",
        "#\n",
        "#Sub clase de vehículo: Bicicleta, con ciertos atributos distintos a los de Auto (kmr y kmax)\n",
        "class Bicicleta(Vehiculo):\n",
        "  def __init__(self):\n",
        "    super().__init__() # Obtiene la instancia generica vehiculo y llama a su funcion __init__\n",
        "    self.kmax= 1000\n",
        "    self.vavg = 30\n",
        "\n",
        "#Aumenta kms recorridos ssi vehiculo está disponible\n",
        "  def recorrer(self, distancia):\n",
        "    if self.estado == \"Funcionando\":\n",
        "      self.kmr += distancia\n",
        "\n",
        "#Chquea si vehiculo está en Funcionando o en Panne ycambia su estado\n",
        "  def disponible(self):\n",
        "    if self.kmr >= self.kmax:\n",
        "      self.estado= \"En Panne\"\n",
        "\n"
      ],
      "execution_count": 6,
      "outputs": []
    },
    {
      "cell_type": "code",
      "metadata": {
        "id": "cKZp4Q03PKXZ"
      },
      "source": [
        "\n"
      ],
      "execution_count": null,
      "outputs": []
    }
  ]
}