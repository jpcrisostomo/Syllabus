{
  "nbformat": 4,
  "nbformat_minor": 0,
  "metadata": {
    "colab": {
      "name": "Untitled2.ipynb",
      "provenance": [],
      "collapsed_sections": []
    },
    "kernelspec": {
      "name": "python3",
      "display_name": "Python 3"
    },
    "language_info": {
      "name": "python"
    }
  },
  "cells": [
    {
      "cell_type": "markdown",
      "metadata": {
        "id": "1b8LnzRvb3Jl"
      },
      "source": [
        "Al implementar lo pedido sin explicitamente crear una función:"
      ]
    },
    {
      "cell_type": "code",
      "metadata": {
        "colab": {
          "base_uri": "https://localhost:8080/"
        },
        "id": "Ar1wCcMFQJyQ",
        "outputId": "7e592476-6bd2-4c92-e5ee-3c31c4c921c2"
      },
      "source": [
        "###EJ 1##\n",
        "\n",
        "\n",
        "lpalabras= ['ddddaxs','dedsdwdw','dsds','xxs','xxs']  #lista de input de prueba\n",
        "dix = dict() #se crea un diccionario\n",
        "\n",
        "for elem in lpalabras:    #se recorre la lista de palabras\n",
        "\n",
        "  if elem not in dix:    #Se incorporan palabras nuevas con ocurrencias 0 al diccionario\n",
        "    dix[elem]=0\n",
        "\n",
        "  dix[elem] +=1         #Se aumentan las ocurrencias (values) de todas las palabras (keys)\n",
        "\n",
        "lista_f=[]                # Se crea lista para ser llenada de tuplas\n",
        "\n",
        "for i,j in dix.items():     #se obtienen todos los items (par key-value) del diccionario final obtenido \n",
        "  lista_f.append( (i,j))    #para ser agregados a la lista final\n",
        "print(lista_f)"
      ],
      "execution_count": 10,
      "outputs": [
        {
          "output_type": "stream",
          "text": [
            "[('ddddaxs', 1), ('dedsdwdw', 1), ('dsds', 1), ('xxs', 2)]\n"
          ],
          "name": "stdout"
        }
      ]
    },
    {
      "cell_type": "markdown",
      "metadata": {
        "id": "rSJmMrXEWQu4"
      },
      "source": [
        "Ahora al implementar una función que reciba un solo argumento, este siendo una lista de strings:"
      ]
    },
    {
      "cell_type": "code",
      "metadata": {
        "id": "z0qQxyZBTuvO"
      },
      "source": [
        "def calcular_ocurrencias(lista_input):\n",
        "  dix = dict()             #se crea diccionario\n",
        "  lista_output=[]        \n",
        "\n",
        "  for elem in lista_input:   #se recorre la lista de palabras\n",
        "      if elem not in dix:    #se crea par key-item como palabra - ocurrencias en caso de no estar\n",
        "        dix[elem]=0          #se crea en 0 para poder aumentar las ocurrencuas fuera del if\n",
        "                             \n",
        "      dix[elem] +=1          #siempre se contabiliza +1 cada palabra de acuerdo a su key\n",
        "\n",
        "  for i,j in dix.items():      #se obtienen todos los items (par key-value) del diccionario final obtenido\n",
        "    lista_output.append( (i,j) )   #se crean tuplas (palabra- ocurrencias) que se agregan al final de una lista de output\n",
        "  \n",
        "  return lista_output               #el retorno de la función corresponde a la lista de output completa"
      ],
      "execution_count": 14,
      "outputs": []
    },
    {
      "cell_type": "code",
      "metadata": {
        "colab": {
          "base_uri": "https://localhost:8080/"
        },
        "id": "DsMoDEheXVnb",
        "outputId": "08cadf71-d81f-4298-cea2-1d404632068a"
      },
      "source": [
        "palabras = ['avion', 'perro', 'gato', 'avion', 'edificio', 'gato']\n",
        "ocurrencias = calcular_ocurrencias(palabras)\n",
        "print(ocurrencias)"
      ],
      "execution_count": 15,
      "outputs": [
        {
          "output_type": "stream",
          "text": [
            "[('avion', 2), ('perro', 1), ('gato', 2), ('edificio', 1)]\n"
          ],
          "name": "stdout"
        }
      ]
    },
    {
      "cell_type": "markdown",
      "metadata": {
        "id": "KoHhCfqIUuRe"
      },
      "source": [
        ""
      ]
    }
  ]
}